{
 "cells": [
  {
   "cell_type": "markdown",
   "id": "6afae423",
   "metadata": {},
   "source": [
    "# AI Project A*\n",
    "\n",
    "Trabalho realizado por:\n",
    "    - Tiago Matos 21905643\n",
    "    - Paulo Pinto 21906966"
   ]
  },
  {
   "cell_type": "markdown",
   "id": "105c776c",
   "metadata": {},
   "source": [
    "# IMPORTS\n",
    "\n",
    "explicar imports\n"
   ]
  },
  {
   "cell_type": "code",
   "execution_count": 19,
   "id": "bc543391",
   "metadata": {},
   "outputs": [
    {
     "data": {
      "text/plain": [
       "<matplotlib.pyplot._IoffContext at 0x20fdb52c2b0>"
      ]
     },
     "execution_count": 19,
     "metadata": {},
     "output_type": "execute_result"
    }
   ],
   "source": [
    "import matplotlib.pyplot as plt\n",
    "import seaborn as sns\n",
    "import pandas as pd\n",
    "import numpy as np\n",
    "import shutil\n",
    "import time\n",
    "import math\n",
    "import os\n",
    "import imageio.v2 as imageio\n",
    "\n",
    "plt.ioff()"
   ]
  },
  {
   "cell_type": "markdown",
   "id": "b8197c7b",
   "metadata": {},
   "source": []
  },
  {
   "cell_type": "markdown",
   "id": "38fddbda",
   "metadata": {},
   "source": [
    "GLOBAL VARIABLES"
   ]
  },
  {
   "cell_type": "code",
   "execution_count": 2,
   "id": "488f66d7",
   "metadata": {},
   "outputs": [],
   "source": [
    "START = 'S'  # Start -> nó inicial (canto superior esquerdo)\n",
    "END = 'E'  # End -> nó final (canto inferior direito)\n",
    "TERRA = 'T'  # Terra -> movimento para este nó tem custo 1\n",
    "AGUA = 'A'  # Agua -> movimento para este nó tem custo 3\n",
    "BARREIRA = 'B'  # Barreira -> can't move here\n",
    "FRONTEIRA = 'F'  # Fronteira -> can't move here"
   ]
  },
  {
   "cell_type": "code",
   "execution_count": 3,
   "id": "de793113",
   "metadata": {},
   "outputs": [],
   "source": [
    "CSV_ENV_FILE = 'input/sample-environment.csv'\n",
    "DISPLAY_INTERVAL = 25"
   ]
  },
  {
   "cell_type": "markdown",
   "id": "05036519",
   "metadata": {},
   "source": [
    "CLASSES"
   ]
  },
  {
   "cell_type": "code",
   "execution_count": 4,
   "id": "328e0e9e",
   "metadata": {},
   "outputs": [],
   "source": [
    "class Node:\n",
    "    def __init__(self, name, pos, cost_so_far, heuristic, path):\n",
    "        self.name = name\n",
    "        self.pos = pos\n",
    "        self.cost_so_far = cost_so_far\n",
    "        self.heuristic = heuristic\n",
    "        self.path = path\n",
    "        self.visited = False\n",
    "        self.done = False\n",
    "    \n",
    "    def __str__(self):\n",
    "        return f'{self.name} | {self.pos} | {self.cost_so_far} | {self.heuristic} | {self.combined_cost}\\n{self.path}'\n",
    "\n",
    "    def simple_print(self):\n",
    "        return f'{self.name} - {self.pos} - {self.combined_cost}\\n{self.path}'\n",
    "    \n",
    "    def __eq__(self, obj):\n",
    "        return obj.name == self.name and obj.pos == self.pos\n",
    "    \n",
    "    @property\n",
    "    def combined_cost(self):\n",
    "        return self.cost_so_far + self.heuristic"
   ]
  },
  {
   "cell_type": "code",
   "execution_count": 5,
   "id": "6b3916e4",
   "metadata": {},
   "outputs": [],
   "source": [
    "class NodeStructures:\n",
    "    def __init__(self, start_node, grid):\n",
    "        self.counter = 0\n",
    "        self.done = []\n",
    "        self.q = [start_node]\n",
    "        self.node_map = {start_node: Node(grid[0][0], start_node, 0, 0, [start_node])}\n",
    "        self.initialize_nodes(start_node, grid)\n",
    "\n",
    "    def initialize_nodes(self, start_node, grid):\n",
    "        for (y, line) in enumerate(grid):\n",
    "            for (x, _) in enumerate(line):\n",
    "                if (x, y) != start_node:\n",
    "                    heuristic = calculate_heuristic_distance_2(x, y, *GOAL)\n",
    "                    self.node_map[(x, y)] = Node(grid[x][y], (x, y), 9999, heuristic, [])\n",
    "\n",
    "    def get_node_from_queue(self, pos):\n",
    "        return self.node_map[pos]\n",
    "\n",
    "    def get_graph_map_list(self, path=[]):\n",
    "        map = [[''] * (MAP_SIZE + 1) for _ in range(MAP_SIZE + 1)]\n",
    "        for pos in self.node_map:\n",
    "            if pos in path:\n",
    "                map[pos[0]][pos[1]] = 'P'\n",
    "            elif self.node_map[pos].done:\n",
    "                map[pos[0]][pos[1]] = 'D'\n",
    "            elif self.node_map[pos].visited:\n",
    "                map[pos[0]][pos[1]] = 'V'\n",
    "            else:\n",
    "                map[pos[0]][pos[1]] = self.node_map[pos].name\n",
    "        map[MAP_SIZE][MAP_SIZE] = 'E'\n",
    "        return map"
   ]
  },
  {
   "cell_type": "markdown",
   "id": "b64f655b",
   "metadata": {},
   "source": [
    "FUNCTIONS"
   ]
  },
  {
   "cell_type": "markdown",
   "id": "6ea57210",
   "metadata": {},
   "source": [
    "+ Get info from environment file"
   ]
  },
  {
   "cell_type": "code",
   "execution_count": 6,
   "id": "716cab8c",
   "metadata": {},
   "outputs": [],
   "source": [
    "def read_file(file_name):\n",
    "    with open(file_name) as fp:\n",
    "        fp.readline() # ignore first line\n",
    "        for l in fp.readlines():\n",
    "            yield l.strip(\"\\n\").split(',')[1:]"
   ]
  },
  {
   "cell_type": "markdown",
   "id": "de28a1d2",
   "metadata": {},
   "source": [
    "+ Calculate heuristic"
   ]
  },
  {
   "cell_type": "code",
   "execution_count": 7,
   "id": "235c8722",
   "metadata": {},
   "outputs": [],
   "source": [
    "# crashes\n",
    "def calculate_heuristic_distance(x,y, final_x, final_y):\n",
    "    dx = abs(x - final_x)\n",
    "    dy = abs(y - final_y)\n",
    "    return max(dx, dy)\n",
    "\n",
    "def calculate_heuristic_distance_2(x,y, final_x, final_y):\n",
    "    dx = abs(x - final_x)\n",
    "    dy = abs(y - final_y)\n",
    "    md = 1 # move distance\n",
    "    md2 = 2 # move distance 2\n",
    "    return md * (dx + dy) + (md2 - 2 * md) * min(dx, dy)\n",
    "\n",
    "# crashes\n",
    "def calculate_heuristic_distance_3(x,y, final_x, final_y):\n",
    "    dx = abs(x - final_x)\n",
    "    dy = abs(y - final_y)\n",
    "    return 1 * math.sqrt(dx * dx + dy * dy)"
   ]
  },
  {
   "cell_type": "markdown",
   "id": "cfb30dbf",
   "metadata": {},
   "source": [
    "+ Get possible move positions"
   ]
  },
  {
   "cell_type": "code",
   "execution_count": 8,
   "id": "d56980c9",
   "metadata": {},
   "outputs": [],
   "source": [
    "def get_next_moves(x,y):\n",
    "    return [(x - 1, y - 1), (x - 1, y), (x - 1, y + 1),\n",
    "            (x, y - 1),                     (x, y + 1),\n",
    "            (x + 1, y - 1), (x + 1, y), (x + 1, y + 1),]"
   ]
  },
  {
   "cell_type": "markdown",
   "id": "18c102da",
   "metadata": {},
   "source": [
    "+ Vizualize environment as map"
   ]
  },
  {
   "cell_type": "code",
   "execution_count": 9,
   "id": "bf1cf763",
   "metadata": {},
   "outputs": [],
   "source": [
    "def visualize_env(map, file_name):\n",
    "    map_envir = pd.DataFrame(map)\n",
    "    map_env_num = map_envir.replace(['T', 'A', 'F', 'B', 'S', 'E', 'V', 'D', 'P', 'SP'], [\n",
    "                                      2,   3,   0,   0,   1,   1,   4,   5,   6,   6])\n",
    "    f, ax = plt.subplots(figsize=(16, 10))\n",
    "    ax = sns.heatmap(map_env_num, cmap=\"mako\")\n",
    "    f.savefig(f'output/{file_name}.png')"
   ]
  },
  {
   "cell_type": "markdown",
   "id": "3eddbfbe",
   "metadata": {},
   "source": [
    "+ A* Algorithm"
   ]
  },
  {
   "cell_type": "code",
   "execution_count": 10,
   "id": "0859945d",
   "metadata": {},
   "outputs": [],
   "source": [
    "def print_final_path(final_path):\n",
    "    lines_info = list(read_file(CSV_ENV_FILE))\n",
    "    grid = np.array(lines_info, dtype=object)\n",
    "    cost = 0\n",
    "    for x,y in final_path:\n",
    "        cost += 3 if grid[x][y] == \"A\" else 1\n",
    "        grid[x][y] = 'V'\n",
    "    print(f\"final path's length is {len(final_path)} - costs {cost}\")\n",
    "    visualize_env(grid, 'path')"
   ]
  },
  {
   "cell_type": "code",
   "execution_count": 11,
   "metadata": {},
   "outputs": [],
   "source": [
    "def a_star_algo(node_structures, goal, visualize = False):\n",
    "    node_map = node_structures.node_map\n",
    "    q = node_structures.q\n",
    "    \n",
    "    node_structures.counter += 1\n",
    "    if visualize:\n",
    "        if node_structures.counter % DISPLAY_INTERVAL == 0:\n",
    "            # print(int(node_structures.counter / DISPLAY_INTERVAL))\n",
    "            visualize_env(node_structures.get_graph_map_list(),\n",
    "                        f'map_stage_{int(node_structures.counter / DISPLAY_INTERVAL):0>2}')\n",
    "            # timestamp -> math.floor(time.time())\n",
    "\n",
    "    h = q.pop(0)\n",
    "    node_map[h].done = True\n",
    "\n",
    "    # print(\"HEAD -> \", node_map[h].simple_print())\n",
    "    # print('q = [', end='')\n",
    "    # for (i, n) in enumerate(q):\n",
    "        # print(f'{node_map[n].pos} [{node_map[n].cost_so_far} + {node_map[n].heuristic} = {node_map[n].combined_cost}]', end=(', ' if i != len(q) - 1 else ']\\n'))\n",
    "\n",
    "    if h == goal:\n",
    "        print(\"END GOAL REACHED\")\n",
    "        # print(node_map[h].path)\n",
    "        if visualize:\n",
    "            visualize_env(node_structures.get_graph_map_list(\n",
    "                node_map[h].path), 'map_stage_final')\n",
    "        print_final_path(node_map[h].path)\n",
    "        return\n",
    "    \n",
    "    for x, y in get_next_moves(*h):\n",
    "        # if move goes outside of map, skip\n",
    "        if not 0 < x <= MAP_SIZE or not 0 < y <= MAP_SIZE:\n",
    "            continue\n",
    "\n",
    "        node = node_map[(x,y)]\n",
    "        #print(f'{node.pos} actual move -> {node.name not in [FRONTEIRA, BARREIRA] and node.pos not in done}')\n",
    "        \n",
    "        if node.name not in [FRONTEIRA, BARREIRA] and not node.done:\n",
    "            # check cost of valid nodes\n",
    "            if node.cost_so_far > (new_cost := node_map[h].cost_so_far + (3 if node.name == AGUA else 1)):\n",
    "                # change cost and path if new path is better\n",
    "                node.cost_so_far = new_cost\n",
    "                node.path = node_map[h].path + [node.pos]\n",
    "            if not node.visited:\n",
    "                q.append(node.pos)\n",
    "                node.visited = True\n",
    "\n",
    "    node_structures.q = list(set(q)) # remove duplicates\n",
    "    node_structures.q.sort(key=lambda x: node_map[x].combined_cost)\n",
    "    a_star_algo(node_structures, goal, visualize)"
   ]
  },
  {
   "cell_type": "code",
   "execution_count": 12,
   "id": "2f03eaf9",
   "metadata": {},
   "outputs": [
    {
     "name": "stdout",
     "output_type": "stream",
     "text": [
      "END GOAL REACHED\n",
      "final path's length is 147 - costs 171\n"
     ]
    },
    {
     "data": {
      "image/png": "[encoded data removed]",
      "text/plain": [
       "<Figure size 1152x720 with 2 Axes>"
      ]
     },
     "metadata": {
      "needs_background": "light"
     },
     "output_type": "display_data"
    }
   ],
   "source": [
    "\n",
    "lines_info = list(read_file(CSV_ENV_FILE))\n",
    "grid = np.array(lines_info, dtype=object)\n",
    "\n",
    "MAP_SIZE = len(lines_info[0]) - 1\n",
    "START = (0, 0)\n",
    "GOAL = (MAP_SIZE, MAP_SIZE)\n",
    "\n",
    "node_structures = NodeStructures(START, grid)\n",
    "\n",
    "shutil.rmtree('output')\n",
    "os.makedirs('output')\n",
    "\n",
    "a_star_algo(node_structures, GOAL, visualize = False)"
   ]
  },
  {
   "cell_type": "code",
   "execution_count": 13,
   "id": "17f68205",
   "metadata": {},
   "outputs": [],
   "source": [
    "# start = time.time()\n",
    "# a_star_algo(node_structures, GOAL)\n",
    "# end = time.time()\n",
    "# print(end - start)"
   ]
  },
  {
   "cell_type": "markdown",
   "id": "b7dc24cc",
   "metadata": {},
   "source": [
    "Criar GIF com a resolução"
   ]
  },
  {
   "cell_type": "code",
   "execution_count": 18,
   "id": "70f5e4e2",
   "metadata": {},
   "outputs": [
    {
     "name": "stdout",
     "output_type": "stream",
     "text": [
      "\n",
      "No images were generated, can't create gif\n"
     ]
    }
   ],
   "source": [
    "images = []\n",
    "\n",
    "dir = os.listdir(\"output\")\n",
    "\n",
    "for filename in dir:\n",
    "    f = os.getcwd() + \"\\\\output\\\\\" + filename\n",
    "    # don't show path\n",
    "    if \"path.png\" in f:\n",
    "        continue\n",
    "    # show final map for longer\n",
    "    if \"map_stage_final.png\" in f:\n",
    "        for _ in range(20):\n",
    "            images.append(imageio.imread(f))\n",
    "    \n",
    "    images.append(imageio.imread(f))\n",
    "\n",
    "if images:\n",
    "    imageio.mimsave(os.getcwd() + '\\\\solves\\\\solve.gif', images, duration=0.15)\n",
    "else:\n",
    "    print(\"No images were generated, can't create gif\")"
   ]
  },
  {
   "cell_type": "markdown",
   "id": "9103cc67",
   "metadata": {},
   "source": [
    "black Projeto.ipynb -l 94"
   ]
  }
 ],
 "metadata": {
  "interpreter": {
   "hash": "369f2c481f4da34e4445cda3fffd2e751bd1c4d706f27375911949ba6bb62e1c"
  },
  "kernelspec": {
   "display_name": "Python 3.10.4 64-bit",
   "language": "python",
   "name": "python3"
  },
  "language_info": {
   "codemirror_mode": {
    "name": "ipython",
    "version": 3
   },
   "file_extension": ".py",
   "mimetype": "text/x-python",
   "name": "python",
   "nbconvert_exporter": "python",
   "pygments_lexer": "ipython3",
   "version": "3.10.4"
  },
  "toc": {
   "base_numbering": 1,
   "nav_menu": {},
   "number_sections": true,
   "sideBar": true,
   "skip_h1_title": false,
   "title_cell": "Table of Contents",
   "title_sidebar": "Contents",
   "toc_cell": false,
   "toc_position": {},
   "toc_section_display": true,
   "toc_window_display": false
  },
  "varInspector": {
   "cols": {
    "lenName": 16,
    "lenType": 16,
    "lenVar": 40
   },
   "kernels_config": {
    "python": {
     "delete_cmd_postfix": "",
     "delete_cmd_prefix": "del ",
     "library": "var_list.py",
     "varRefreshCmd": "print(var_dic_list())"
    },
    "r": {
     "delete_cmd_postfix": ") ",
     "delete_cmd_prefix": "rm(",
     "library": "var_list.r",
     "varRefreshCmd": "cat(var_dic_list()) "
    }
   },
   "types_to_exclude": [
    "module",
    "function",
    "builtin_function_or_method",
    "instance",
    "_Feature"
   ],
   "window_display": false
  }
 },
 "nbformat": 4,
 "nbformat_minor": 5
}
